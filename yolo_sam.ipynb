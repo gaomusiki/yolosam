{
 "cells": [
  {
   "cell_type": "markdown",
   "metadata": {},
   "source": [
    "在使用前，确保自己训练好了yolo模型，且下载了sam的官方预训练模型"
   ]
  },
  {
   "cell_type": "code",
   "execution_count": null,
   "metadata": {},
   "outputs": [],
   "source": [
    "from ultralytics import YOLO\n",
    "import numpy as np\n",
    "from PIL import Image, ImageDraw\n",
    "import torch\n",
    "import torchvision\n",
    "import sys\n",
    "import cv2\n",
    "import re\n",
    "print(sys.path)\n",
    "sys.path.append('your/path/to/segment-anything') #最好加一下，有的时候环境混乱会导致识别不到sam的路径\n",
    "from segment_anything import SamPredictor, sam_model_registry #环境安装的sam库\n",
    "import os\n",
    "# 检查GPU可用性\n",
    "print(\"GPU available: \", torch.cuda.is_available())\n",
    "device='cuda:0' #指定GPU"
   ]
  },
  {
   "cell_type": "code",
   "execution_count": null,
   "metadata": {},
   "outputs": [],
   "source": [
    "# 加载YOLO模型\n",
    "checkpoint = \"your/path/to/yolo/ckpt\"  # YOLO训练好的模型路径\n",
    "model = YOLO(checkpoint)\n",
    "model.to(device)"
   ]
  },
  {
   "cell_type": "code",
   "execution_count": null,
   "metadata": {},
   "outputs": [],
   "source": [
    "# 加载SAM模型\n",
    "sam_checkpoint = \"your/path/to/pretrained/sam/ckpt\"  # 替换为你的SAM模型路径\n",
    "sam_model = sam_model_registry[\"vit_h\"](checkpoint=sam_checkpoint)  # 加载SAM的模型\n",
    "sam_model.to(device)\n",
    "sam_predictor = SamPredictor(sam_model)"
   ]
  },
  {
   "cell_type": "code",
   "execution_count": null,
   "metadata": {},
   "outputs": [],
   "source": [
    "input_image = 'your/path/to/input/images or images dir'  # 输入图片路径,也可以是一个dir，yolo会自动处理，dir的话，sam那边需要自己处理一下\n",
    "boxes=[]\n",
    "names=[\"your/list/of/your/classes\"] #你的类别名称.和数据集的yaml里的要一致"
   ]
  },
  {
   "cell_type": "code",
   "execution_count": null,
   "metadata": {},
   "outputs": [],
   "source": [
    "# 获取YOLO检测的边界框\n",
    "results = model(source=input_image, conf=0.2, show=False, save=True)\n",
    "boxes = results[0].boxes.xyxy  # 获取边界框坐标 (xmin, ymin, xmax, ymax)\n",
    "cls=results[0].boxes.cls\n",
    "b=[]\n",
    "for i in range(boxes.shape[0]):\n",
    "    b.append((round(boxes[i][0].item(),1),round(boxes[i][2].item(),1),round(boxes[i][1].item(),1),round(boxes[i][3].item(),1),names[int(cls[i].item())]))\n",
    "for i in b:\n",
    "    print(i)"
   ]
  },
  {
   "cell_type": "markdown",
   "metadata": {},
   "source": [
    "笔者保存了四种图片，假设原图为1.jpg\n",
    "1. yolo检测的输出图 ，不需要时请将上一个cell的save改为 False，当save为true时，yolo会自动保存预测结果图，但不建议，会影响下一个cell的保存路径\n",
    "\n",
    "下面三种后缀都是一定的，如不需要将下面cell中对应的保存代码删除即可\n",
    "\n",
    "2. sam根据yolo检测框生成的gt_mask图      1_gtmask.png \n",
    "\n",
    "3. 根据gt_mask取出的部分原图             1_segmented.png\n",
    "\n",
    "4. gt_mask和原图的重叠图                 1_masked.png"
   ]
  },
  {
   "cell_type": "code",
   "execution_count": null,
   "metadata": {},
   "outputs": [],
   "source": [
    "def draw_yolo_style_box(image, xmin, ymin, xmax, ymax, cls, color=(255, 0, 0)):\n",
    "    # 绘制边框\n",
    "    cv2.rectangle(image, (int(xmin), int(ymin)), (int(xmax), int(ymax)), color, 2)"
   ]
  },
  {
   "cell_type": "code",
   "execution_count": null,
   "metadata": {},
   "outputs": [],
   "source": [
    "allow=[\"your/list/of/your/classes that you want to segment\"] #你想要分割的类别名称\n",
    "# 假设你已经加载了图像并且boxes是YOLO检测到的边界框（xmin, ymin, xmax, ymax）\n",
    "image =cv2.imread(input_image)\n",
    "image=cv2.cvtColor(image, cv2.COLOR_BGR2RGB)\n",
    "output_image = np.copy(image)\n",
    "file_name = \"your/outpout/dir/name\"    #根据需求自行修改\n",
    "image_with_boxes=image.copy()"
   ]
  },
  {
   "cell_type": "code",
   "execution_count": null,
   "metadata": {},
   "outputs": [],
   "source": [
    "# 创建输出目录，简单来说直接删除代码只剩最后两行，直接指定就行\n",
    "pathout = 'your/path/to/runs/detect'  #这个路径是上面save为true时yolo自动创建的保存结果路径\n",
    "\n",
    "# 获取目录下的所有文件夹\n",
    "folders = os.listdir(pathout)\n",
    "\n",
    "# 正则表达式匹配 'expX' 中的数字\n",
    "exp_numbers = []\n",
    "\n",
    "# 遍历文件夹并提取 'exp' 文件夹中的数字\n",
    "for folder in folders:\n",
    "    match = re.match(r'predict(\\d+)', folder)\n",
    "    if match:\n",
    "        exp_numbers.append(int(match.group(1)))\n",
    "\n",
    "# 获取最大的 i (expX 中的最大数字)\n",
    "if exp_numbers:\n",
    "    max_exp = max(exp_numbers)\n",
    "    print(f\"The largest 'i' is: {max_exp}\")\n",
    "else:\n",
    "    print(\"No 'expX' folders found.\")\n",
    "\n",
    "# 输出文件夹\n",
    "output_dir = f'./runs/detect/predict{max_exp}/{file_name}'\n",
    "print(output_dir)"
   ]
  },
  {
   "cell_type": "code",
   "execution_count": null,
   "metadata": {},
   "outputs": [],
   "source": [
    "os.makedirs(output_dir, exist_ok=True)\n",
    "grid = [] \n",
    "grid.append(Image.fromarray(image))\n",
    "# 创建一个空的掩码图像（和原图一样的大小）\n",
    "combined_mask = np.zeros_like(image[:, :, 0])  # 创建与原图大小相同的空白掩码图（灰度图）\n",
    "sam_predictor.set_image(image)\n",
    "# 对每个检测框进行分割并将掩码叠加到合成掩码图上\n",
    "for i, boxi in enumerate(b):\n",
    "    xmin, xmax, ymin, ymax,cls= boxi\n",
    "    print(boxi)\n",
    "    if cls in allow:# 保证只对需要的cls进行分割，减少开销\n",
    "        \n",
    "        draw_yolo_style_box(image_with_boxes, xmin, ymin, xmax, ymax, cls, color=(255, 0, 0))\n",
    "        box = np.array([xmin,ymin,xmax,ymax])\n",
    "        # 使用SAM模型直接通过边界框进行分割\n",
    "        mask, _, _ = sam_predictor.predict(\n",
    "            point_coords=None,\n",
    "            point_labels=None,\n",
    "            box=box,  # 直接将整个边界框传入进行分割\n",
    "            multimask_output=False\n",
    "        )\n",
    "        \n",
    "        # 遍历每个掩码（如果有多个掩码）\n",
    "        for m in mask:\n",
    "            # 将掩码从 [height, width] 转换为 [height, width, 1] 的形状，适应整个图像\n",
    "            m_resized = m[:, :, None]\n",
    "            m_resized = np.broadcast_to(m_resized, image.shape)  # 将掩码广播到整个图像形状\n",
    "            \n",
    "            # 根据掩码将图像的对应区域修改为指定的值（例如 0）\n",
    "            modified_part = np.where(m_resized == 1, 30, image)\n",
    "            grid.append(Image.fromarray(modified_part))\n",
    "            # 将掩码区域合并到合成掩码图中\n",
    "            combined_mask = np.maximum(combined_mask, m_resized[:, :, 0] * 255)\n",
    "            \n",
    "            # 保存图像部分的修改结果（如果需要逐个保存每个掩码图）\n",
    "            grid.append(Image.fromarray(modified_part))\n",
    "\n",
    "# 保存合成掩码图\n",
    "mask_output_path = os.path.join(output_dir, f\"{file_name}_gtmask.png\")\n",
    "combined_mask_pil = Image.fromarray(combined_mask.astype(np.uint8))\n",
    "#combined_mask_pil.save(mask_output_path)\n",
    "print(f\"Saved the combined mask image to {mask_output_path}\")\n",
    "\n",
    "# 将合成掩码图与原图重合\n",
    "\n",
    "output_image_with_mask = np.where(combined_mask[:, :, np.newaxis] == 255, 150 ,output_image)  # 将掩码区域保留，其他区域设置为黑色\n",
    "output_image_only_mask = np.where(combined_mask[:, :, np.newaxis] == 255 ,output_image, 150)\n",
    "\n",
    "# 保存最终图像（合成图与掩码重合的图）\n",
    "output_path = os.path.join(output_dir, f\"{file_name}_masked.png\")\n",
    "output_image_with_mask_pil = Image.fromarray(output_image_with_mask.astype(np.uint8))\n",
    "#output_image_with_mask_pil.save(output_path)\n",
    "\n",
    "output_path2= os.path.join(output_dir, f\"{file_name}_segmented.png\")\n",
    "output_image_only_mask_pil = Image.fromarray(output_image_only_mask.astype(np.uint8))\n",
    "#output_image_only_mask_pil.save(output_path2)\n",
    "print(f\"Saved the combined segmented image with masks to {output_path}\")\n",
    "print(\"Done!\")\n",
    "# 保存画框图像\n",
    "detect_output_path = os.path.join(output_dir, f\"{file_name}_detect.jpg\")\n",
    "Image.fromarray(image_with_boxes.astype(np.uint8)).save(detect_output_path)\n",
    "print(f\"Saved the detection box image to {detect_output_path}\")\n",
    "\n",
    "# 设置黄色和透明度\n",
    "highlight_color = np.array([255, 255, 0], dtype=np.uint8)  # 黄色\n",
    "alpha = 0.3  # 透明度系数，0=完全原图，1=完全高亮色\n",
    "\n",
    "# 复制原图\n",
    "blended_image = output_image.copy().astype(np.float32)\n",
    "\n",
    "# 找掩码区域\n",
    "mask_region = combined_mask == 255\n",
    "\n",
    "# 将掩码区域的像素值进行 alpha 混合：output = original * (1 - alpha) + highlight * alpha\n",
    "for c in range(3):  # 对 R,G,B 三个通道分别处理\n",
    "    blended_image[:, :, c][mask_region] = (\n",
    "        (1 - alpha) * blended_image[:, :, c][mask_region] + alpha * highlight_color[c]\n",
    "    )\n",
    "\n",
    "# 保存图像\n",
    "output_path = os.path.join(output_dir, f\"{file_name}_highlighted_mask.png\")\n",
    "highlighted_pil = Image.fromarray(blended_image.astype(np.uint8))\n",
    "highlighted_pil.save(output_path)"
   ]
  }
 ],
 "metadata": {
  "kernelspec": {
   "display_name": "yolo",
   "language": "python",
   "name": "python3"
  },
  "language_info": {
   "codemirror_mode": {
    "name": "ipython",
    "version": 3
   },
   "file_extension": ".py",
   "mimetype": "text/x-python",
   "name": "python",
   "nbconvert_exporter": "python",
   "pygments_lexer": "ipython3",
   "version": "3.9.22"
  }
 },
 "nbformat": 4,
 "nbformat_minor": 2
}
